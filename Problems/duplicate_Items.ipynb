{
 "metadata": {
  "language_info": {
   "codemirror_mode": {
    "name": "ipython",
    "version": 3
   },
   "file_extension": ".py",
   "mimetype": "text/x-python",
   "name": "python",
   "nbconvert_exporter": "python",
   "pygments_lexer": "ipython3",
   "version": "3.8.3-final"
  },
  "orig_nbformat": 2,
  "kernelspec": {
   "name": "python3",
   "display_name": "Python 3"
  }
 },
 "nbformat": 4,
 "nbformat_minor": 2,
 "cells": [
  {
   "source": [
    "### Duplicate items in List \n",
    "consider a list = [1,2,3,4,54,1,2,1,2,1,3,4] remove Duplicate elements"
   ],
   "cell_type": "markdown",
   "metadata": {}
  },
  {
   "cell_type": "code",
   "execution_count": 7,
   "metadata": {},
   "outputs": [],
   "source": [
    "def remove_duplicate(orginalList):\n",
    "    remove_duplicate = [] # create another lis for remove duplicate elements from original list.\n",
    "\n",
    "    for i in orginalList: # iterate over list\n",
    "        if i not in remove_duplicate:    # if items search,it will append into the remove_duplicate list\n",
    "            remove_duplicate.append(i)\n",
    "    return remove_duplicate # return remove duplicate"
   ]
  },
  {
   "cell_type": "code",
   "execution_count": 8,
   "metadata": {},
   "outputs": [
    {
     "output_type": "execute_result",
     "data": {
      "text/plain": [
       "[1, 2, 3, 4, 54]"
      ]
     },
     "metadata": {},
     "execution_count": 8
    }
   ],
   "source": [
    "remove_duplicate(orginalList = [1,2,3,4,54,1,2,1,2,1,3,4])"
   ]
  },
  {
   "cell_type": "code",
   "execution_count": null,
   "metadata": {},
   "outputs": [],
   "source": []
  }
 ]
}