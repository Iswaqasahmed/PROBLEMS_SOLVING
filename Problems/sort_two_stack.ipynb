{
 "metadata": {
  "language_info": {
   "codemirror_mode": {
    "name": "ipython",
    "version": 3
   },
   "file_extension": ".py",
   "mimetype": "text/x-python",
   "name": "python",
   "nbconvert_exporter": "python",
   "pygments_lexer": "ipython3",
   "version": "3.8.3-final"
  },
  "orig_nbformat": 2,
  "kernelspec": {
   "name": "python3",
   "display_name": "Python 3"
  }
 },
 "nbformat": 4,
 "nbformat_minor": 2,
 "cells": [
  {
   "source": [
    "### Sorting two stack without any other data type using."
   ],
   "cell_type": "markdown",
   "metadata": {}
  },
  {
   "source": [
    "### Method 1"
   ],
   "cell_type": "markdown",
   "metadata": {}
  },
  {
   "cell_type": "code",
   "execution_count": 1,
   "metadata": {},
   "outputs": [],
   "source": [
    "def sort(n):    # sort function name\n",
    "    lis = []        # empty list for initalization\n",
    "    while n:          # untill when n contain elements \n",
    "        vti = n.pop(0)      # value to insert   \n",
    "        while (len(lis)>0):        # check if lis is empty \n",
    "            lv = lis.pop(0)    # last value \n",
    "            if (vti > lv):  #  value to inset(comes from n list) must be greater than last (comes from lis) value \n",
    "                n.insert(0,lv)     # inset last value in \"n\" list at index 0\n",
    "            else:\n",
    "                lis.insert(0,lv)      # insert last value in lis at index 0    \n",
    "                break   # why break because iner while loop done its job else sorting distrub\n",
    "        lis.insert(0,vti)  # inside of outer while loop,it store n.pop value in lis\n",
    "\n",
    "    return print('Sorted Stack ',lis)"
   ]
  },
  {
   "cell_type": "code",
   "execution_count": 2,
   "metadata": {},
   "outputs": [
    {
     "output_type": "stream",
     "name": "stdout",
     "text": [
      "Sorted Stack  [0, 1, 3, 3]\n"
     ]
    }
   ],
   "source": [
    "sort([1,3,0,3])"
   ]
  },
  {
   "source": [
    "## Method 2\n",
    "With Stack Concept"
   ],
   "cell_type": "markdown",
   "metadata": {}
  },
  {
   "cell_type": "code",
   "execution_count": 3,
   "metadata": {},
   "outputs": [],
   "source": [
    "def sort(n):    # sort function name\n",
    "    lis = []        # empty list for initalization\n",
    "    while n:          # untill when n contain elements \n",
    "        i = 0\n",
    "        if len(lis) == 0:\n",
    "            lis.insert(0,n.pop(0))     \n",
    "\n",
    "        if n[0] > lis[0]:\n",
    "            lis.append(n.pop(0))\n",
    "        else:\n",
    "            lis.insert(0,n.pop(0))\n",
    "    return lis"
   ]
  },
  {
   "cell_type": "code",
   "execution_count": 4,
   "metadata": {},
   "outputs": [
    {
     "output_type": "execute_result",
     "data": {
      "text/plain": [
       "[0, 1, 3, 3]"
      ]
     },
     "metadata": {},
     "execution_count": 4
    }
   ],
   "source": [
    "sort([1,3,0,3])"
   ]
  },
  {
   "cell_type": "code",
   "execution_count": null,
   "metadata": {},
   "outputs": [],
   "source": []
  }
 ]
}