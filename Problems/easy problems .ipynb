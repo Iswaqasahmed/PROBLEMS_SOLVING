{
 "metadata": {
  "language_info": {
   "codemirror_mode": {
    "name": "ipython",
    "version": 3
   },
   "file_extension": ".py",
   "mimetype": "text/x-python",
   "name": "python",
   "nbconvert_exporter": "python",
   "pygments_lexer": "ipython3",
   "version": 3
  },
  "orig_nbformat": 2
 },
 "nbformat": 4,
 "nbformat_minor": 2,
 "cells": [
  {
   "source": [
    "### Given a sequence of integers as an array, determine whether it is possible to obtain a strictly increasing sequence by removing no more than one element from the array.\n",
    "\n",
    "### Note: sequence a0, a1, ..., an is considered to be a strictly increasing if a0 < a1 < ... < an. Sequence containing only one element is also ### considered to be strictly increasing.\n",
    "\n",
    "### For sequence = [1, 3, 2, 1], the output should be\n",
    "### almostIncreasingSequence(sequence) = false.\n",
    "\n",
    "### There is no one element in this array that can be removed in order to get a strictly increasing sequence.\n",
    "\n",
    "### For sequence = [1, 3, 2], the output should be\n",
    "### almostIncreasingSequence(sequence) = true.\n",
    "\n",
    "### You can remove 3 from the array to get the strictly increasing sequence [1, 2]. Alternately, you can remove 2 to get the strictly increasing ### sequence [1, 3].\n",
    "\n"
   ],
   "cell_type": "markdown",
   "metadata": {}
  },
  {
   "source": [
    "**execution time limit] 4 seconds (py3)**\n",
    "\n",
    "\n",
    "###Guaranteed constraints:\n",
    "### 2 ≤ sequence.length ≤ 105,\n",
    "### -105 ≤ sequence[i] ≤ 105.\n",
    "\n",
    "[output] boolean\n",
    "\n",
    "Return true if it is possible to remove one element from the array in order to get a strictly increasing sequence, otherwise return false."
   ],
   "cell_type": "markdown",
   "metadata": {}
  },
  {
   "cell_type": "code",
   "execution_count": null,
   "metadata": {},
   "outputs": [],
   "source": []
  }
 ]
}